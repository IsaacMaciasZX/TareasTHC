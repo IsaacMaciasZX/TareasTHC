{
  "cells": [
    {
      "cell_type": "markdown",
      "metadata": {
        "id": "view-in-github",
        "colab_type": "text"
      },
      "source": [
        "<a href=\"https://colab.research.google.com/github/IsaacMaciasZX/TareasTHC/blob/main/NivelBasico/Funciones/Funciones%20Lambda.ipynb\" target=\"_parent\"><img src=\"https://colab.research.google.com/assets/colab-badge.svg\" alt=\"Open In Colab\"/></a>"
      ]
    },
    {
      "cell_type": "markdown",
      "id": "eea26030-2312-4db5-8c4a-23c7823382fe",
      "metadata": {
        "id": "eea26030-2312-4db5-8c4a-23c7823382fe"
      },
      "source": [
        "<font color=\"Red\" face=\"Comic Sans MS,arial\">\n",
        "  <h1 align=\"center\"><i>Funciones Lambda </i></h1>\n",
        "  </font>\n",
        "  \n",
        "> Elaborado por: Jesús Iván Coss Calderón. mat_ing_coss@ciencias.unam.mx"
      ]
    },
    {
      "cell_type": "markdown",
      "id": "d572795c",
      "metadata": {
        "id": "d572795c"
      },
      "source": [
        "**Objetivo general**\n",
        "\n",
        "* Aprender los fundamentos de la declaración de funciones lambda\n",
        "\n",
        "**Objetivos particulares**\n",
        "\n",
        "* Entender la elaboración de funciones lambda"
      ]
    },
    {
      "cell_type": "markdown",
      "id": "001e54d2",
      "metadata": {
        "id": "001e54d2"
      },
      "source": [
        "[**Regresa al notebook principal**](https://github.com/seismomat/HerramientasComputacionales/blob/main/Sintaxis%2Ccomentarios%2CTiposDeDatos.ipynb)"
      ]
    },
    {
      "cell_type": "markdown",
      "id": "b76ffc8a",
      "metadata": {
        "id": "b76ffc8a"
      },
      "source": [
        "<a name='c1'></a>\n",
        "\n",
        "## Contenido\n",
        "\n",
        "- [Funciones lambda](#1)\n",
        "    - [Declaración](#1-1)\n",
        "- [¿Por qué funciones lambda?](#2)\n",
        "- [Ejercicios propuestos](#3)"
      ]
    },
    {
      "cell_type": "markdown",
      "id": "269975e0",
      "metadata": {
        "id": "269975e0"
      },
      "source": [
        "<a name='1'></a>\n",
        "\n",
        "# Funciones lambda\n",
        "[regresar al contenido](#c1)\n",
        "\n",
        "Una función lambda es una pequeña función anónima.\n",
        "\n",
        "Una función lambda puede tomar cualquier número de argumentos, pero solo puede tener una expresión."
      ]
    },
    {
      "cell_type": "markdown",
      "id": "fb9dfa06",
      "metadata": {
        "id": "fb9dfa06"
      },
      "source": [
        "<a name='1-1'></a>\n",
        "\n",
        "## Declaración\n",
        "[regresar al contenido](#c1)\n",
        "\n",
        "La funciones lambda se declaran de la siguiente manera: `lambda argumentos : expresión`"
      ]
    },
    {
      "cell_type": "code",
      "execution_count": null,
      "id": "b516f0d1",
      "metadata": {
        "id": "b516f0d1",
        "outputId": "6f4b9e01-76dd-4d62-fab5-d9937ee3b973"
      },
      "outputs": [
        {
          "name": "stdout",
          "output_type": "stream",
          "text": [
            "15\n"
          ]
        }
      ],
      "source": [
        "x = lambda a : a + 10\n",
        "print(x(5))"
      ]
    },
    {
      "cell_type": "code",
      "source": [
        "potencia= lambda a:a**2\n",
        "potencia(5)"
      ],
      "metadata": {
        "id": "G1oroYLDqWkw",
        "outputId": "f1d10430-1481-48bf-ff0b-e58e98253d11",
        "colab": {
          "base_uri": "https://localhost:8080/"
        }
      },
      "id": "G1oroYLDqWkw",
      "execution_count": 2,
      "outputs": [
        {
          "output_type": "execute_result",
          "data": {
            "text/plain": [
              "25"
            ]
          },
          "metadata": {},
          "execution_count": 2
        }
      ]
    },
    {
      "cell_type": "code",
      "source": [
        "suma= lambda x,y: x+y\n",
        "suma(2,3)"
      ],
      "metadata": {
        "id": "T3e8GS7prOFo",
        "outputId": "cbc84391-5e5e-4847-cc51-4616bd861849",
        "colab": {
          "base_uri": "https://localhost:8080/"
        }
      },
      "id": "T3e8GS7prOFo",
      "execution_count": 3,
      "outputs": [
        {
          "output_type": "execute_result",
          "data": {
            "text/plain": [
              "5"
            ]
          },
          "metadata": {},
          "execution_count": 3
        }
      ]
    },
    {
      "cell_type": "code",
      "source": [
        "def my_func(n):\n",
        "  return lambda a: a*n\n",
        "\n",
        "Doubles= my_func(2)\n",
        "Doubles(6)"
      ],
      "metadata": {
        "id": "lz0ZSpVPrgOf",
        "outputId": "f3a0d141-55c4-401c-dc99-c47e91dfbe13",
        "colab": {
          "base_uri": "https://localhost:8080/"
        }
      },
      "id": "lz0ZSpVPrgOf",
      "execution_count": 9,
      "outputs": [
        {
          "output_type": "execute_result",
          "data": {
            "text/plain": [
              "12"
            ]
          },
          "metadata": {},
          "execution_count": 9
        }
      ]
    },
    {
      "cell_type": "code",
      "source": [
        "def Ffunct(x):\n",
        "    return lambda x+n\n",
        "Xf= Ffunct(3)\n",
        "Ffunct (5)"
      ],
      "metadata": {
        "id": "cOpZ3PbDsgcg",
        "outputId": "dff514e8-24e8-4465-f0e7-962717e1ab56",
        "colab": {
          "base_uri": "https://localhost:8080/",
          "height": 106
        }
      },
      "id": "cOpZ3PbDsgcg",
      "execution_count": 18,
      "outputs": [
        {
          "output_type": "error",
          "ename": "SyntaxError",
          "evalue": "invalid syntax (<ipython-input-18-371d1ef7ee85>, line 2)",
          "traceback": [
            "\u001b[0;36m  File \u001b[0;32m\"<ipython-input-18-371d1ef7ee85>\"\u001b[0;36m, line \u001b[0;32m2\u001b[0m\n\u001b[0;31m    return lambda x+n\u001b[0m\n\u001b[0m                   ^\u001b[0m\n\u001b[0;31mSyntaxError\u001b[0m\u001b[0;31m:\u001b[0m invalid syntax\n"
          ]
        }
      ]
    },
    {
      "cell_type": "code",
      "source": [
        "def Ordenada(a,b):\n",
        "  return lambda x:a*x+b\n",
        "\n",
        "Recta=Ordenada(2,-1)\n",
        "valores=[]\n",
        "for i in range (10):\n",
        "  print (valores,i)\n",
        "  valores.append(Recta(i) )\n",
        "print(valores,1)"
      ],
      "metadata": {
        "id": "L649gSxStCtQ",
        "outputId": "90c2aceb-b2e6-403d-dbd8-ddac6ae51c76",
        "colab": {
          "base_uri": "https://localhost:8080/"
        }
      },
      "id": "L649gSxStCtQ",
      "execution_count": 24,
      "outputs": [
        {
          "output_type": "stream",
          "name": "stdout",
          "text": [
            "[] 0\n",
            "[-1] 1\n",
            "[-1, 1] 2\n",
            "[-1, 1, 3] 3\n",
            "[-1, 1, 3, 5] 4\n",
            "[-1, 1, 3, 5, 7] 5\n",
            "[-1, 1, 3, 5, 7, 9] 6\n",
            "[-1, 1, 3, 5, 7, 9, 11] 7\n",
            "[-1, 1, 3, 5, 7, 9, 11, 13] 8\n",
            "[-1, 1, 3, 5, 7, 9, 11, 13, 15] 9\n",
            "[-1, 1, 3, 5, 7, 9, 11, 13, 15, 17] 1\n"
          ]
        }
      ]
    },
    {
      "cell_type": "code",
      "source": [
        "def Ordenada(a,b):\n",
        "  return lambda x:a*x+b\n",
        "\n",
        "Recta=Ordenada(2,-1)\n",
        "valores=[]\n",
        "for i in range (10):\n",
        "\n",
        "  append(Recta(i) )\n",
        "  print(\"y=\"+str(Recta(i)))"
      ],
      "metadata": {
        "id": "gWae9GM8ulkX"
      },
      "id": "gWae9GM8ulkX",
      "execution_count": null,
      "outputs": []
    },
    {
      "cell_type": "code",
      "source": [
        "dic={}#diccionario vacio\n"
      ],
      "metadata": {
        "id": "D-sD2hDlwhbX"
      },
      "id": "D-sD2hDlwhbX",
      "execution_count": null,
      "outputs": []
    },
    {
      "cell_type": "code",
      "source": [
        "dic={\"llave1\":5,\n",
        "     \"llave2\": \"Valor2\",\n",
        "     \"llave3\":[1,2,3],\n",
        "     \"llave4\": True}\n",
        "print(dic)\n",
        "list(dic.keys())"
      ],
      "metadata": {
        "id": "z94Fm-5mw1Ke",
        "outputId": "c470f538-daf7-4618-b7e9-2e3765759f44",
        "colab": {
          "base_uri": "https://localhost:8080/"
        }
      },
      "id": "z94Fm-5mw1Ke",
      "execution_count": 29,
      "outputs": [
        {
          "output_type": "stream",
          "name": "stdout",
          "text": [
            "{'llave1': 5, 'llave2': 'Valor2', 'llave3': [1, 2, 3], 'llave4': True}\n"
          ]
        },
        {
          "output_type": "execute_result",
          "data": {
            "text/plain": [
              "['llave1', 'llave2', 'llave3', 'llave4']"
            ]
          },
          "metadata": {},
          "execution_count": 29
        }
      ]
    },
    {
      "cell_type": "code",
      "source": [],
      "metadata": {
        "id": "i8lfKLTEyxrO"
      },
      "id": "i8lfKLTEyxrO",
      "execution_count": null,
      "outputs": []
    },
    {
      "cell_type": "markdown",
      "id": "1e1300e6-d20f-43da-b0bf-cdaf3873e4dc",
      "metadata": {
        "id": "1e1300e6-d20f-43da-b0bf-cdaf3873e4dc"
      },
      "source": [
        "También les podemos pasar más de dos argumentos"
      ]
    },
    {
      "cell_type": "code",
      "execution_count": null,
      "id": "1ff15207-e7ff-4453-b988-faf6887374d2",
      "metadata": {
        "id": "1ff15207-e7ff-4453-b988-faf6887374d2",
        "outputId": "54e95cb3-6e73-4d09-f595-70990ab43303"
      },
      "outputs": [
        {
          "name": "stdout",
          "output_type": "stream",
          "text": [
            "30\n"
          ]
        }
      ],
      "source": [
        "x = lambda a, b : a * b\n",
        "print(x(5, 6))"
      ]
    },
    {
      "cell_type": "code",
      "execution_count": null,
      "id": "5a690ae3-71dd-458c-a3c6-6fa06ca3a9b8",
      "metadata": {
        "id": "5a690ae3-71dd-458c-a3c6-6fa06ca3a9b8",
        "outputId": "4ddfce98-24b6-434e-bf5c-280a7a9cc3d1"
      },
      "outputs": [
        {
          "name": "stdout",
          "output_type": "stream",
          "text": [
            "13\n"
          ]
        }
      ],
      "source": [
        "x = lambda a, b, c : a + b + c\n",
        "print(x(5, 6, 2))"
      ]
    },
    {
      "cell_type": "code",
      "source": [
        "#Diccionario de encuesta de 6 personas, Nombre, estudia?, status legal\n",
        "\n",
        "datos = {\n",
        "    Nombre:[\"Juan\",\"Fernando\",\"Jorge\",\"Arturo\",\"Ricardo\",\"Antonio\"],\n",
        "    Ocupación:[\"Estudia\",\"Estudia\",\"Trabaja\",\"Estudia\",\"Trabaja\",\"Trabaja\"],\n",
        "    Estado_civil:[\"Soltero\",\"Soltero\",\"Divorciado\",\"Soltero\",\"Casado\",\"Viudo\"],\n",
        "}\n",
        "\n",
        "dataframe= pd.DataFrame(datos)\n",
        "dataframe.to_csv(DatosDisc.sv)\n",
        "print(dataframe)\n",
        "\n"
      ],
      "metadata": {
        "id": "0_ZAuD-853EU",
        "outputId": "0d1ad5ac-03b7-43e6-ba1d-5c1d535d4698",
        "colab": {
          "base_uri": "https://localhost:8080/",
          "height": 211
        }
      },
      "id": "0_ZAuD-853EU",
      "execution_count": 33,
      "outputs": [
        {
          "output_type": "error",
          "ename": "NameError",
          "evalue": "name 'Nombre' is not defined",
          "traceback": [
            "\u001b[0;31m---------------------------------------------------------------------------\u001b[0m",
            "\u001b[0;31mNameError\u001b[0m                                 Traceback (most recent call last)",
            "\u001b[0;32m<ipython-input-33-6060c3467454>\u001b[0m in \u001b[0;36m<cell line: 4>\u001b[0;34m()\u001b[0m\n\u001b[1;32m      2\u001b[0m \u001b[0;34m\u001b[0m\u001b[0m\n\u001b[1;32m      3\u001b[0m datos = {\n\u001b[0;32m----> 4\u001b[0;31m     \u001b[0mNombre\u001b[0m\u001b[0;34m:\u001b[0m\u001b[0;34m[\u001b[0m\u001b[0;34m\"Juan\"\u001b[0m\u001b[0;34m,\u001b[0m\u001b[0;34m\"Fernando\"\u001b[0m\u001b[0;34m,\u001b[0m\u001b[0;34m\"Jorge\"\u001b[0m\u001b[0;34m,\u001b[0m\u001b[0;34m\"Arturo\"\u001b[0m\u001b[0;34m,\u001b[0m\u001b[0;34m\"Ricardo\"\u001b[0m\u001b[0;34m,\u001b[0m\u001b[0;34m\"Antonio\"\u001b[0m\u001b[0;34m]\u001b[0m\u001b[0;34m,\u001b[0m\u001b[0;34m\u001b[0m\u001b[0;34m\u001b[0m\u001b[0m\n\u001b[0m\u001b[1;32m      5\u001b[0m     \u001b[0mOcupación\u001b[0m\u001b[0;34m:\u001b[0m\u001b[0;34m[\u001b[0m\u001b[0;34m\"Estudia\"\u001b[0m\u001b[0;34m,\u001b[0m\u001b[0;34m\"Estudia\"\u001b[0m\u001b[0;34m,\u001b[0m\u001b[0;34m\"Trabaja\"\u001b[0m\u001b[0;34m,\u001b[0m\u001b[0;34m\"Estudia\"\u001b[0m\u001b[0;34m,\u001b[0m\u001b[0;34m\"Trabaja\"\u001b[0m\u001b[0;34m,\u001b[0m\u001b[0;34m\"Trabaja\"\u001b[0m\u001b[0;34m]\u001b[0m\u001b[0;34m,\u001b[0m\u001b[0;34m\u001b[0m\u001b[0;34m\u001b[0m\u001b[0m\n\u001b[1;32m      6\u001b[0m     \u001b[0mEstado_civil\u001b[0m\u001b[0;34m:\u001b[0m\u001b[0;34m[\u001b[0m\u001b[0;34m\"Soltero\"\u001b[0m\u001b[0;34m,\u001b[0m\u001b[0;34m\"Soltero\"\u001b[0m\u001b[0;34m,\u001b[0m\u001b[0;34m\"Divorciado\"\u001b[0m\u001b[0;34m,\u001b[0m\u001b[0;34m\"Soltero\"\u001b[0m\u001b[0;34m,\u001b[0m\u001b[0;34m\"Casado\"\u001b[0m\u001b[0;34m,\u001b[0m\u001b[0;34m\"Viudo\"\u001b[0m\u001b[0;34m]\u001b[0m\u001b[0;34m,\u001b[0m\u001b[0;34m\u001b[0m\u001b[0;34m\u001b[0m\u001b[0m\n",
            "\u001b[0;31mNameError\u001b[0m: name 'Nombre' is not defined"
          ]
        }
      ]
    },
    {
      "cell_type": "markdown",
      "id": "d003deb7",
      "metadata": {
        "id": "d003deb7"
      },
      "source": [
        "<a name='2'></a>\n",
        "\n",
        "# ¿Por qué funciones lambda?\n",
        "[regresar al contenido](#c1)"
      ]
    },
    {
      "cell_type": "markdown",
      "id": "52d6e80c-a7b3-458b-8cd5-229907d3aef2",
      "metadata": {
        "id": "52d6e80c-a7b3-458b-8cd5-229907d3aef2"
      },
      "source": [
        "El poder de la función lambda se muestra mejor cuando las usas como una función anónima dentro de otra función.\n",
        "\n",
        "Digamos que tienes una definición de función que toma un argumento, y ese argumento será multiplicado por un número desconocido."
      ]
    },
    {
      "cell_type": "code",
      "execution_count": null,
      "id": "27c06062-0e3b-4dd5-88a4-29b5784fdb9c",
      "metadata": {
        "id": "27c06062-0e3b-4dd5-88a4-29b5784fdb9c"
      },
      "outputs": [],
      "source": [
        "def mifunc(n):\n",
        "  return lambda a : a * n"
      ]
    },
    {
      "cell_type": "code",
      "execution_count": null,
      "id": "ffba3cb6-1f9a-4025-b46a-45791a848c56",
      "metadata": {
        "id": "ffba3cb6-1f9a-4025-b46a-45791a848c56",
        "outputId": "90a75e8e-e431-4131-b2b4-3d0cfcedab73"
      },
      "outputs": [
        {
          "name": "stdout",
          "output_type": "stream",
          "text": [
            "22\n"
          ]
        }
      ],
      "source": [
        "midoble = mifunc(2)\n",
        "\n",
        "print(midoble(11))"
      ]
    },
    {
      "cell_type": "markdown",
      "id": "5ed1d17d-06a7-447d-be7b-c09627ab06a1",
      "metadata": {
        "id": "5ed1d17d-06a7-447d-be7b-c09627ab06a1"
      },
      "source": [
        "La función anterior siempre duplique el número que envías."
      ]
    },
    {
      "cell_type": "code",
      "execution_count": null,
      "id": "8275b2b5-5e0a-45d6-8f18-017268ab955f",
      "metadata": {
        "id": "8275b2b5-5e0a-45d6-8f18-017268ab955f",
        "outputId": "e8b650e9-e159-4108-faa1-543321444fde"
      },
      "outputs": [
        {
          "name": "stdout",
          "output_type": "stream",
          "text": [
            "22\n",
            "33\n"
          ]
        }
      ],
      "source": [
        "def mifunc(n):\n",
        "  return lambda a : a * n\n",
        "\n",
        "MiDoble = mifunc(2)\n",
        "MiTriple = mifunc(3)\n",
        "\n",
        "print(MiDoble(11))\n",
        "print(MiTriple(11))"
      ]
    },
    {
      "cell_type": "markdown",
      "id": "202b7434",
      "metadata": {
        "id": "202b7434"
      },
      "source": [
        "<a name='3'></a>\n",
        "\n",
        "# Ejercicios propuestos\n",
        "[regresar al contenido](#c1)"
      ]
    },
    {
      "cell_type": "markdown",
      "id": "7739c210",
      "metadata": {
        "id": "7739c210"
      },
      "source": [
        "Ejercicios propuestos que puedes resolver utilizando funciones lambda en Python:\n",
        "\n",
        "1. **Calculadora de Operaciones Básicas:**\n",
        "Crea una calculadora que acepte dos números y una operación (suma, resta, multiplicación, división) como entrada y use funciones lambda para realizar la operación deseada.\n",
        "\n",
        "2. **Ordenar una Lista de Tuplas:**\n",
        "Dada una lista de tuplas, donde cada tupla contiene un nombre y una edad, ordena la lista de acuerdo a la edad utilizando una función lambda como clave de ordenamiento.\n",
        "\n",
        "3. **Filtrar Números Pares:**\n",
        "Dada una lista de números, filtra solo los números pares utilizando una función lambda y la función `filter()`.\n",
        "\n",
        "4. **Cálculo de Impuestos:**\n",
        "Escribe un programa que calcule el impuesto sobre el salario de una persona. Usa una función lambda para calcular el impuesto basado en el ingreso ingresado.\n",
        "\n",
        "5. **Combinar Dos Listas:**\n",
        "Dadas dos listas de números, crea una nueva lista que contenga la suma de los elementos correspondientes en las dos listas utilizando una función lambda y la función `map()`.\n",
        "\n",
        "6. **Contador de Palabras:**\n",
        "Escribe una función que tome una lista de cadenas y devuelva la longitud de cada cadena utilizando una función lambda y la función `map()`.\n",
        "\n",
        "7. **Validador de Contraseña:**\n",
        "Crea una función que valide si una contraseña es segura. Una contraseña se considera segura si tiene al menos 8 caracteres y contiene al menos un número y un carácter especial. Usa funciones lambda para verificar las condiciones.\n",
        "\n",
        "8. **Cálculo de Intereses Compuestos:**\n",
        "Escribe un programa que calcule el monto total después de ciertos años usando la fórmula de interés compuesto. Utiliza una función lambda para calcular el interés compuesto.\n",
        "\n",
        "9. **Filtro de Números Primos:**\n",
        "Dada una lista de números, filtra solo los números primos utilizando una función lambda y la función `filter()`.\n",
        "\n",
        "10. **Conversión de Temperaturas:**\n",
        "Crea un programa que convierta una lista de temperaturas en grados Celsius a Fahrenheit utilizando una función lambda y la función `map()`.\n",
        "\n",
        "Estos ejercicios te ayudarán a practicar y comprender mejor cómo trabajar con funciones lambda en Python y cómo aplicarlas en diferentes situaciones. ¡Diviértete resolviéndolos!"
      ]
    }
  ],
  "metadata": {
    "kernelspec": {
      "display_name": "Python 3 (ipykernel)",
      "language": "python",
      "name": "python3"
    },
    "language_info": {
      "codemirror_mode": {
        "name": "ipython",
        "version": 3
      },
      "file_extension": ".py",
      "mimetype": "text/x-python",
      "name": "python",
      "nbconvert_exporter": "python",
      "pygments_lexer": "ipython3",
      "version": "3.11.4"
    },
    "colab": {
      "provenance": [],
      "include_colab_link": true
    }
  },
  "nbformat": 4,
  "nbformat_minor": 5
}