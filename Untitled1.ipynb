{
  "nbformat": 4,
  "nbformat_minor": 0,
  "metadata": {
    "colab": {
      "provenance": [],
      "authorship_tag": "ABX9TyN/zxbE5rUmb+8fneyK4hMr",
      "include_colab_link": true
    },
    "kernelspec": {
      "name": "python3",
      "display_name": "Python 3"
    },
    "language_info": {
      "name": "python"
    }
  },
  "cells": [
    {
      "cell_type": "markdown",
      "metadata": {
        "id": "view-in-github",
        "colab_type": "text"
      },
      "source": [
        "<a href=\"https://colab.research.google.com/github/IsaacMaciasZX/TareasTHC/blob/main/Untitled1.ipynb\" target=\"_parent\"><img src=\"https://colab.research.google.com/assets/colab-badge.svg\" alt=\"Open In Colab\"/></a>"
      ]
    },
    {
      "cell_type": "code",
      "execution_count": 34,
      "metadata": {
        "colab": {
          "base_uri": "https://localhost:8080/"
        },
        "id": "ZQ4KLFrtZeA8",
        "outputId": "cb42282e-0ce0-42d5-8305-b953c92eacb0"
      },
      "outputs": [
        {
          "output_type": "stream",
          "name": "stdout",
          "text": [
            "Escribe tu primer numero22\n",
            "Escribe tu segundo numero55\n",
            "La suma de tus numeros es: 77\n",
            "La multiplicacion de tus numeros es: 1210\n",
            "La resta de tus numeros es: -33\n",
            "La division de tus numeros es: 0.4\n"
          ]
        }
      ],
      "source": [
        "#Calculadora simple\n",
        "#NxC=Numero x Calcular\n",
        "NxC= int(input(\"Escribe tu primer numero\"))\n",
        "NxC2= int(input(\"Escribe tu segundo numero\"))\n",
        "Sum= int(NxC)+int(NxC2)\n",
        "Multi= int(NxC)*int(NxC2)\n",
        "Res= int(NxC)-int(NxC2)\n",
        "Divi= int(NxC)/int(NxC2)\n",
        "print(\"La suma de tus numeros es:\", Sum)\n",
        "print(\"La multiplicacion de tus numeros es:\", Multi)\n",
        "print(\"La resta de tus numeros es:\", Res)\n",
        "print(\"La division de tus numeros es:\", Divi)"
      ]
    },
    {
      "cell_type": "code",
      "source": [
        "#celsius a farenheit\n",
        "\n",
        "\n",
        "\n",
        "CaF= input(\"Escribe tus grados Celsius\")\n",
        "Caf=(int(CaF)*9/5)+32\n",
        "print(\"Tus grados Celsius a farenheit son:\",Caf,\"F\")\n"
      ],
      "metadata": {
        "colab": {
          "base_uri": "https://localhost:8080/"
        },
        "id": "jcu0evKiZelx",
        "outputId": "a1ef6223-92d9-4236-b02e-928ac7602ab3"
      },
      "execution_count": 26,
      "outputs": [
        {
          "output_type": "stream",
          "name": "stdout",
          "text": [
            "Escribe tus grados Celsius36\n",
            "Tus grados Celsius a farenheit son: 96.8 F\n"
          ]
        }
      ]
    },
    {
      "cell_type": "code",
      "source": [
        "#Contador de palabras\n",
        "\n",
        "Oracion = input(\"Escribe una oración:\")\n",
        "Palabras=Oracion.split()\n",
        "PalabrasT=len(Palabras)\n",
        "\n",
        "print((\"tu oración tiene\", PalabrasT, \"palabras\"))"
      ],
      "metadata": {
        "colab": {
          "base_uri": "https://localhost:8080/"
        },
        "id": "QZB6jHU0ZeoT",
        "outputId": "a87bf359-052b-427c-d673-b729b2f6b11c"
      },
      "execution_count": 20,
      "outputs": [
        {
          "output_type": "stream",
          "name": "stdout",
          "text": [
            "Escribe una oración:hola soy\n",
            "('tu oración tiene', 2, 'palabras')\n"
          ]
        }
      ]
    },
    {
      "cell_type": "code",
      "source": [
        "#Calculadora de promedios\n",
        "\n",
        "Notas= (input(\"Ingresa tus notas a promediar, separados con comas\"))\n",
        "PromedioF= Notas.split(\",\")\n",
        "notasTotales= sum(Notas)\n",
        "NotasG= len(PromedioF)\n",
        "PromedioFinal= notasTotales/NotasG\n",
        "\n",
        "print(\"Tu promedio de tus notas es\", PromedioF)\n",
        "#No entiendo que hice mal en la suma"
      ],
      "metadata": {
        "colab": {
          "base_uri": "https://localhost:8080/",
          "height": 237
        },
        "id": "1U0tBadHZeq2",
        "outputId": "3a54f734-6b67-45c6-8b4b-4f761d6dc3b9"
      },
      "execution_count": 33,
      "outputs": [
        {
          "name": "stdout",
          "output_type": "stream",
          "text": [
            "Ingresa tus notas a promediar, separados con comas23, 32\n"
          ]
        },
        {
          "output_type": "error",
          "ename": "TypeError",
          "evalue": "unsupported operand type(s) for +: 'int' and 'str'",
          "traceback": [
            "\u001b[0;31m---------------------------------------------------------------------------\u001b[0m",
            "\u001b[0;31mTypeError\u001b[0m                                 Traceback (most recent call last)",
            "\u001b[0;32m<ipython-input-33-f95e928c4343>\u001b[0m in \u001b[0;36m<cell line: 5>\u001b[0;34m()\u001b[0m\n\u001b[1;32m      3\u001b[0m \u001b[0mNotas\u001b[0m\u001b[0;34m=\u001b[0m \u001b[0;34m(\u001b[0m\u001b[0minput\u001b[0m\u001b[0;34m(\u001b[0m\u001b[0;34m\"Ingresa tus notas a promediar, separados con comas\"\u001b[0m\u001b[0;34m)\u001b[0m\u001b[0;34m)\u001b[0m\u001b[0;34m\u001b[0m\u001b[0;34m\u001b[0m\u001b[0m\n\u001b[1;32m      4\u001b[0m \u001b[0mPromedioF\u001b[0m\u001b[0;34m=\u001b[0m \u001b[0mNotas\u001b[0m\u001b[0;34m.\u001b[0m\u001b[0msplit\u001b[0m\u001b[0;34m(\u001b[0m\u001b[0;34m\",\"\u001b[0m\u001b[0;34m)\u001b[0m\u001b[0;34m\u001b[0m\u001b[0;34m\u001b[0m\u001b[0m\n\u001b[0;32m----> 5\u001b[0;31m \u001b[0mnotasTotales\u001b[0m\u001b[0;34m=\u001b[0m \u001b[0msum\u001b[0m\u001b[0;34m(\u001b[0m\u001b[0mNotas\u001b[0m\u001b[0;34m)\u001b[0m\u001b[0;34m\u001b[0m\u001b[0;34m\u001b[0m\u001b[0m\n\u001b[0m\u001b[1;32m      6\u001b[0m \u001b[0mNotasG\u001b[0m\u001b[0;34m=\u001b[0m \u001b[0mlen\u001b[0m\u001b[0;34m(\u001b[0m\u001b[0mPromedioF\u001b[0m\u001b[0;34m)\u001b[0m\u001b[0;34m\u001b[0m\u001b[0;34m\u001b[0m\u001b[0m\n\u001b[1;32m      7\u001b[0m \u001b[0mPromedioFinal\u001b[0m\u001b[0;34m=\u001b[0m \u001b[0mnotasTotales\u001b[0m\u001b[0;34m/\u001b[0m\u001b[0mNotasG\u001b[0m\u001b[0;34m\u001b[0m\u001b[0;34m\u001b[0m\u001b[0m\n",
            "\u001b[0;31mTypeError\u001b[0m: unsupported operand type(s) for +: 'int' and 'str'"
          ]
        }
      ]
    },
    {
      "cell_type": "code",
      "source": [
        "#Registro de Estudiantes, Nombres y calificaciones\n",
        "\n",
        "NombEst= input(\"Escriba el nombre completo del estudiante:\")\n",
        "\n",
        "CalEst= input(\"Ingrese las calificaciones a promediar, separadas con comas\")\n",
        "PromedioF= CalEst.split(\",\")\n",
        "notasTotales= sum(CalEst)\n",
        "NotasG= len(PromedioF)\n",
        "PromedioFinal= notasTotales/NotasG\n",
        "#mismo error de la suma del calculo pasado, disculpas.\n",
        "print(\"El estudiante\", NombEst, \"tiene como promedio final\", PromedioFinal)"
      ],
      "metadata": {
        "colab": {
          "base_uri": "https://localhost:8080/",
          "height": 255
        },
        "id": "Fg6WwpHUq0SN",
        "outputId": "20f7be8f-2a66-4160-9d9f-0838a5cde0c6"
      },
      "execution_count": 39,
      "outputs": [
        {
          "name": "stdout",
          "output_type": "stream",
          "text": [
            "Escriba el nombre completo del estudiante:Isaac Macías\n",
            "Ingrese las calificaciones a promediar, separadas con comas23,22\n"
          ]
        },
        {
          "output_type": "error",
          "ename": "TypeError",
          "evalue": "unsupported operand type(s) for +: 'int' and 'str'",
          "traceback": [
            "\u001b[0;31m---------------------------------------------------------------------------\u001b[0m",
            "\u001b[0;31mTypeError\u001b[0m                                 Traceback (most recent call last)",
            "\u001b[0;32m<ipython-input-39-43c718e097d1>\u001b[0m in \u001b[0;36m<cell line: 7>\u001b[0;34m()\u001b[0m\n\u001b[1;32m      5\u001b[0m \u001b[0mCalEst\u001b[0m\u001b[0;34m=\u001b[0m \u001b[0minput\u001b[0m\u001b[0;34m(\u001b[0m\u001b[0;34m\"Ingrese las calificaciones a promediar, separadas con comas\"\u001b[0m\u001b[0;34m)\u001b[0m\u001b[0;34m\u001b[0m\u001b[0;34m\u001b[0m\u001b[0m\n\u001b[1;32m      6\u001b[0m \u001b[0mPromedioF\u001b[0m\u001b[0;34m=\u001b[0m \u001b[0mCalEst\u001b[0m\u001b[0;34m.\u001b[0m\u001b[0msplit\u001b[0m\u001b[0;34m(\u001b[0m\u001b[0;34m\",\"\u001b[0m\u001b[0;34m)\u001b[0m\u001b[0;34m\u001b[0m\u001b[0;34m\u001b[0m\u001b[0m\n\u001b[0;32m----> 7\u001b[0;31m \u001b[0mnotasTotales\u001b[0m\u001b[0;34m=\u001b[0m \u001b[0msum\u001b[0m\u001b[0;34m(\u001b[0m\u001b[0mCalEst\u001b[0m\u001b[0;34m)\u001b[0m\u001b[0;34m\u001b[0m\u001b[0;34m\u001b[0m\u001b[0m\n\u001b[0m\u001b[1;32m      8\u001b[0m \u001b[0mNotasG\u001b[0m\u001b[0;34m=\u001b[0m \u001b[0mlen\u001b[0m\u001b[0;34m(\u001b[0m\u001b[0mPromedioF\u001b[0m\u001b[0;34m)\u001b[0m\u001b[0;34m\u001b[0m\u001b[0;34m\u001b[0m\u001b[0m\n\u001b[1;32m      9\u001b[0m \u001b[0mPromedioFinal\u001b[0m\u001b[0;34m=\u001b[0m \u001b[0mnotasTotales\u001b[0m\u001b[0;34m/\u001b[0m\u001b[0mNotasG\u001b[0m\u001b[0;34m\u001b[0m\u001b[0;34m\u001b[0m\u001b[0m\n",
            "\u001b[0;31mTypeError\u001b[0m: unsupported operand type(s) for +: 'int' and 'str'"
          ]
        }
      ]
    },
    {
      "cell_type": "code",
      "source": [
        "\"\"\"\n",
        "De la segunda parte de tarea: Descripciones#Usando como ejemplo:\n",
        "celsius a farenheit\"\"\"\n",
        "#Lo de arriba es un comentario largo (creo yo rara vez se usan), este es corto\n",
        "\n",
        "#se le solicitara al usuario indicar sus grados celsius para pasar a Farenheit\n",
        "\n",
        "CaF= input(\"Escribe tus grados Celsius\") #(CaF= Celsius a Farenheit)\n",
        " #Se le indica al usuario mediante un input(sección donde la persona escribe), poner los grados deseados\n",
        "Caf=(int(CaF)*9/5)+32 #de los grados dados, en enteros, el codigo los multiplica por 9/5 y luego les suma 32\n",
        "#Formula en codigo para la variable que se le indique\n",
        "print(\"Tus grados Celsius a farenheit son:\",Caf,\"F\")\n",
        " #La impresion y las ultimas indicaciones que son mas formalidad, solo es finalizar el codigo.\n",
        "\n",
        "# Espero con esto contemplar los 3 puntos de comentarios de la tarea gracias y\n",
        "# buena noche prof\n"
      ],
      "metadata": {
        "id": "l25VbgzCy_fG"
      },
      "execution_count": null,
      "outputs": []
    }
  ]
}