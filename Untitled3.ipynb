{
  "nbformat": 4,
  "nbformat_minor": 0,
  "metadata": {
    "colab": {
      "provenance": [],
      "authorship_tag": "ABX9TyNwLptgL8cm51+dSBydt0W1",
      "include_colab_link": true
    },
    "kernelspec": {
      "name": "python3",
      "display_name": "Python 3"
    },
    "language_info": {
      "name": "python"
    }
  },
  "cells": [
    {
      "cell_type": "markdown",
      "metadata": {
        "id": "view-in-github",
        "colab_type": "text"
      },
      "source": [
        "<a href=\"https://colab.research.google.com/github/IsaacMaciasZX/TareasTHC/blob/main/Untitled3.ipynb\" target=\"_parent\"><img src=\"https://colab.research.google.com/assets/colab-badge.svg\" alt=\"Open In Colab\"/></a>"
      ]
    },
    {
      "cell_type": "code",
      "execution_count": null,
      "metadata": {
        "id": "Dl74OV3QkwE7"
      },
      "outputs": [],
      "source": [
        "import numpy as np\n",
        "import matplotlib.pyplot as plt\n",
        "import imageio.v2 as imageio"
      ]
    },
    {
      "cell_type": "code",
      "source": [
        "#Parametros de modelol\n",
        "size=103\n",
        "pos=round(size/2) #pos se refiere a posicion,lol\n",
        "B=np.zeros(size,dtype=int)\n",
        "B[pos]=1"
      ],
      "metadata": {
        "id": "GsBPFa3okyyY"
      },
      "execution_count": null,
      "outputs": []
    },
    {
      "cell_type": "code",
      "source": [
        "class Automata1D:\n",
        "  def __init__(self,B,name):\n",
        "    #constructor de la clase\n",
        "    self.B=B\n",
        "    self.name=name\n",
        "    self.size=len(self.B)\n",
        "    self.frames=[]\n",
        "    #las imagenes para la simulacion\n",
        "    self.nsteps=self.size #pasos de simulacion\n",
        "\n",
        "  def Rule104(self, L,C,R):\n",
        "    #L left, central, right\n",
        "    if L==1 and C==0 and R==0:\n",
        "      return 1\n",
        "    elif L==0 and C==1 and R==0:\n",
        "      return 1\n",
        "    elif L==0 and C==0 and R==1:\n",
        "      return 1\n",
        "    else:\n",
        "      return 0\n",
        "\n",
        "  def plot(self,C):\n",
        "  #crear la figura de cada paso\n",
        "    fig,ax=plt.subplots(figsize=(8,6))\n",
        "    ax.imshow(C,animated=True,aspect=\"auto\",cmap=\"gray\")\n",
        "    ax.axis(\"off\")\n",
        "    plt.close(fig)#cerrar el canvas para que no se muestre\n",
        "    #\n",
        "\n",
        "  def Run(self):\n",
        "    C=np.zeros((self.size,self.size),dtype=int)\n",
        "    #matriz de pixeles para la simulación\n",
        "    A=np.copy(self.B)#Vector de la condicion inicial\n",
        "    for k in range(self.nsteps):\n",
        "      C[k]=np.copy(A)\n",
        "\n",
        "      #se guardan las imagenes para la simulacion\n",
        "      self.frames.append(self.plot(C))\n",
        "\n",
        "      if self.name==\"Rule104\":\n",
        "        for i in range(self.size):\n",
        "          if i==0:\n",
        "            A[i]=self.Rule104(A[-1],A[0],A[1])\n",
        "          elif i==self.size-1:\n",
        "            A[i]=self.Rule104(A[-2],A[-1],A[0])\n",
        "          else:\n",
        "            A[i]=self.Rule104(A[i-1],A[i],A[i+1])\n",
        "\n",
        "  def save_video(self,filename=\"Automata1D.mp4\",fps=10):\n",
        "    imageio.mimsave(filename,self.frames,fps=fps)\n",
        "    print(f\"Video guardado como {filename}\")"
      ],
      "metadata": {
        "id": "2h1xpVzHky1Q"
      },
      "execution_count": null,
      "outputs": []
    },
    {
      "cell_type": "code",
      "source": [
        "automata=Automata1D(B,\"Rule104\")\n",
        "automata.Run()\n",
        "automata.save_video(\"Miprimervideo.mp4\")"
      ],
      "metadata": {
        "id": "ST1p8Ghjky3v",
        "colab": {
          "base_uri": "https://localhost:8080/",
          "height": 353
        },
        "outputId": "ecaa728a-45c3-4c2e-b6cb-ab831e2e86ad"
      },
      "execution_count": 28,
      "outputs": [
        {
          "output_type": "error",
          "ename": "ValueError",
          "evalue": "The image must have at least two spatial dimensions.",
          "traceback": [
            "\u001b[0;31m---------------------------------------------------------------------------\u001b[0m",
            "\u001b[0;31mValueError\u001b[0m                                Traceback (most recent call last)",
            "\u001b[0;32m<ipython-input-28-bb7e35a654dd>\u001b[0m in \u001b[0;36m<cell line: 3>\u001b[0;34m()\u001b[0m\n\u001b[1;32m      1\u001b[0m \u001b[0mautomata\u001b[0m\u001b[0;34m=\u001b[0m\u001b[0mAutomata1D\u001b[0m\u001b[0;34m(\u001b[0m\u001b[0mB\u001b[0m\u001b[0;34m,\u001b[0m\u001b[0;34m\"Rule104\"\u001b[0m\u001b[0;34m)\u001b[0m\u001b[0;34m\u001b[0m\u001b[0;34m\u001b[0m\u001b[0m\n\u001b[1;32m      2\u001b[0m \u001b[0mautomata\u001b[0m\u001b[0;34m.\u001b[0m\u001b[0mRun\u001b[0m\u001b[0;34m(\u001b[0m\u001b[0;34m)\u001b[0m\u001b[0;34m\u001b[0m\u001b[0;34m\u001b[0m\u001b[0m\n\u001b[0;32m----> 3\u001b[0;31m \u001b[0mautomata\u001b[0m\u001b[0;34m.\u001b[0m\u001b[0msave_video\u001b[0m\u001b[0;34m(\u001b[0m\u001b[0;34m\"Miprimervideo.mp4\"\u001b[0m\u001b[0;34m)\u001b[0m\u001b[0;34m\u001b[0m\u001b[0;34m\u001b[0m\u001b[0m\n\u001b[0m",
            "\u001b[0;32m<ipython-input-25-4b0991237ab5>\u001b[0m in \u001b[0;36msave_video\u001b[0;34m(self, filename, fps)\u001b[0m\n\u001b[1;32m     48\u001b[0m \u001b[0;34m\u001b[0m\u001b[0m\n\u001b[1;32m     49\u001b[0m   \u001b[0;32mdef\u001b[0m \u001b[0msave_video\u001b[0m\u001b[0;34m(\u001b[0m\u001b[0mself\u001b[0m\u001b[0;34m,\u001b[0m\u001b[0mfilename\u001b[0m\u001b[0;34m=\u001b[0m\u001b[0;34m\"Automata1D.mp4\"\u001b[0m\u001b[0;34m,\u001b[0m\u001b[0mfps\u001b[0m\u001b[0;34m=\u001b[0m\u001b[0;36m10\u001b[0m\u001b[0;34m)\u001b[0m\u001b[0;34m:\u001b[0m\u001b[0;34m\u001b[0m\u001b[0;34m\u001b[0m\u001b[0m\n\u001b[0;32m---> 50\u001b[0;31m     \u001b[0mimageio\u001b[0m\u001b[0;34m.\u001b[0m\u001b[0mmimsave\u001b[0m\u001b[0;34m(\u001b[0m\u001b[0mfilename\u001b[0m\u001b[0;34m,\u001b[0m\u001b[0mself\u001b[0m\u001b[0;34m.\u001b[0m\u001b[0mframes\u001b[0m\u001b[0;34m,\u001b[0m\u001b[0mfps\u001b[0m\u001b[0;34m=\u001b[0m\u001b[0mfps\u001b[0m\u001b[0;34m)\u001b[0m\u001b[0;34m\u001b[0m\u001b[0;34m\u001b[0m\u001b[0m\n\u001b[0m\u001b[1;32m     51\u001b[0m     \u001b[0mprint\u001b[0m\u001b[0;34m(\u001b[0m\u001b[0;34mf\"Video guardado como {filename}\"\u001b[0m\u001b[0;34m)\u001b[0m\u001b[0;34m\u001b[0m\u001b[0;34m\u001b[0m\u001b[0m\n",
            "\u001b[0;32m/usr/local/lib/python3.10/dist-packages/imageio/v2.py\u001b[0m in \u001b[0;36mmimwrite\u001b[0;34m(uri, ims, format, **kwargs)\u001b[0m\n\u001b[1;32m    493\u001b[0m     \u001b[0mimopen_args\u001b[0m\u001b[0;34m[\u001b[0m\u001b[0;34m\"legacy_mode\"\u001b[0m\u001b[0;34m]\u001b[0m \u001b[0;34m=\u001b[0m \u001b[0;32mTrue\u001b[0m\u001b[0;34m\u001b[0m\u001b[0;34m\u001b[0m\u001b[0m\n\u001b[1;32m    494\u001b[0m     \u001b[0;32mwith\u001b[0m \u001b[0mimopen\u001b[0m\u001b[0;34m(\u001b[0m\u001b[0muri\u001b[0m\u001b[0;34m,\u001b[0m \u001b[0;34m\"wI\"\u001b[0m\u001b[0;34m,\u001b[0m \u001b[0;34m**\u001b[0m\u001b[0mimopen_args\u001b[0m\u001b[0;34m)\u001b[0m \u001b[0;32mas\u001b[0m \u001b[0mfile\u001b[0m\u001b[0;34m:\u001b[0m\u001b[0;34m\u001b[0m\u001b[0;34m\u001b[0m\u001b[0m\n\u001b[0;32m--> 495\u001b[0;31m         \u001b[0;32mreturn\u001b[0m \u001b[0mfile\u001b[0m\u001b[0;34m.\u001b[0m\u001b[0mwrite\u001b[0m\u001b[0;34m(\u001b[0m\u001b[0mims\u001b[0m\u001b[0;34m,\u001b[0m \u001b[0mis_batch\u001b[0m\u001b[0;34m=\u001b[0m\u001b[0;32mTrue\u001b[0m\u001b[0;34m,\u001b[0m \u001b[0;34m**\u001b[0m\u001b[0mkwargs\u001b[0m\u001b[0;34m)\u001b[0m\u001b[0;34m\u001b[0m\u001b[0;34m\u001b[0m\u001b[0m\n\u001b[0m\u001b[1;32m    496\u001b[0m \u001b[0;34m\u001b[0m\u001b[0m\n\u001b[1;32m    497\u001b[0m \u001b[0;34m\u001b[0m\u001b[0m\n",
            "\u001b[0;32m/usr/local/lib/python3.10/dist-packages/imageio/core/legacy_plugin_wrapper.py\u001b[0m in \u001b[0;36mwrite\u001b[0;34m(self, ndimage, is_batch, metadata, **kwargs)\u001b[0m\n\u001b[1;32m    240\u001b[0m \u001b[0;34m\u001b[0m\u001b[0m\n\u001b[1;32m    241\u001b[0m                 \u001b[0;32mif\u001b[0m \u001b[0mimage\u001b[0m\u001b[0;34m.\u001b[0m\u001b[0mndim\u001b[0m \u001b[0;34m<\u001b[0m \u001b[0;36m2\u001b[0m\u001b[0;34m:\u001b[0m\u001b[0;34m\u001b[0m\u001b[0;34m\u001b[0m\u001b[0m\n\u001b[0;32m--> 242\u001b[0;31m                     raise ValueError(\n\u001b[0m\u001b[1;32m    243\u001b[0m                         \u001b[0;34m\"The image must have at least two spatial dimensions.\"\u001b[0m\u001b[0;34m\u001b[0m\u001b[0;34m\u001b[0m\u001b[0m\n\u001b[1;32m    244\u001b[0m                     )\n",
            "\u001b[0;31mValueError\u001b[0m: The image must have at least two spatial dimensions."
          ]
        }
      ]
    },
    {
      "cell_type": "code",
      "source": [],
      "metadata": {
        "id": "HwlH5PaCky6v"
      },
      "execution_count": null,
      "outputs": []
    },
    {
      "cell_type": "code",
      "source": [],
      "metadata": {
        "id": "-loZxnvNkzBv"
      },
      "execution_count": null,
      "outputs": []
    }
  ]
}