{
  "nbformat": 4,
  "nbformat_minor": 0,
  "metadata": {
    "colab": {
      "provenance": [],
      "include_colab_link": true
    },
    "kernelspec": {
      "name": "python3",
      "display_name": "Python 3"
    },
    "language_info": {
      "name": "python"
    }
  },
  "cells": [
    {
      "cell_type": "markdown",
      "metadata": {
        "id": "view-in-github",
        "colab_type": "text"
      },
      "source": [
        "<a href=\"https://colab.research.google.com/github/IsaacMaciasZX/TareasTHC/blob/main/Tarea5_THC_Numpy_y_Matplotlib.ipynb\" target=\"_parent\"><img src=\"https://colab.research.google.com/assets/colab-badge.svg\" alt=\"Open In Colab\"/></a>"
      ]
    },
    {
      "cell_type": "code",
      "execution_count": null,
      "metadata": {
        "id": "YLjD_tdqQo_0",
        "outputId": "6e8f2bae-e9a0-482d-f51f-d9ed4f165132",
        "colab": {
          "base_uri": "https://localhost:8080/"
        }
      },
      "outputs": [
        {
          "output_type": "stream",
          "name": "stdout",
          "text": [
            "[8, 10, 12]\n",
            "[14, 16, 18]\n",
            "[5, 15, 24]\n"
          ]
        }
      ],
      "source": [
        "#1)\n",
        "#La suma de las matrices\n",
        "import numpy as np\n",
        "\n",
        "def sumar_matrices(matriz_a, matriz_b):\n",
        "    # Creamos una matriz para almacenar el resultado\n",
        "    filas = len(matriz_a)\n",
        "    columnas = len(matriz_a[0])\n",
        "    #Ponemos un 1 para inicializar el bucle for, desde 1 hasta (columnas)\n",
        "    matriz_resultado = [[1 for i in range(columnas)] for i in range(filas)]\n",
        "\n",
        "    # Sumamos las matrices\n",
        "    for i in range(filas):\n",
        "        for j in range(columnas):\n",
        "          #Sumamos los elementos de cada matriz con [i][j]\n",
        "            matriz_resultado[i][j] = matriz_a[i][j] + matriz_b[i][j]\n",
        "    #Returnamos el resultado de la matriz\n",
        "    return matriz_resultado\n",
        "\n",
        "    #Definimos las matrices a y b\n",
        "matriz_a = [[1, 2, 3],\n",
        "            [4, 5, 6],\n",
        "            [4, 7, 1] ]\n",
        "\n",
        "matriz_b = [  [7, 8, 9],\n",
        "              [10, 11, 12],\n",
        "              [1, 8, 23] ]\n",
        "\n",
        "#Aplicamos la función que acabamos de crear\n",
        "resultado = sumar_matrices(matriz_a, matriz_b)\n",
        "for fila in resultado:\n",
        "  print(fila)"
      ]
    },
    {
      "cell_type": "code",
      "source": [
        "# 2)\n",
        "# Ya que estamos definiendo las multiplicaciones entrada por entrada entonces es analogo a la de la suma:\n",
        "def mult_matrices(matriz_a, matriz_b):\n",
        "    # Creamos una matriz para almacenar el resultado\n",
        "    filas = len(matriz_a)\n",
        "    columnas = len(matriz_a[0])\n",
        "    #Ponemos un 1 para inicializar el bucle for, desde 1 hasta (columnas)\n",
        "    matriz_resultado = [[1 for i in range(columnas)] for i in range(filas)]\n",
        "\n",
        "    # Sumamos las matrices\n",
        "    for i in range(filas):\n",
        "        for j in range(columnas):\n",
        "          #Sumamos los elementos de cada matriz con [i][j]\n",
        "            matriz_resultado[i][j] = matriz_a[i][j] * matriz_b[i][j]\n",
        "    #Returnamos el resultado de la matriz\n",
        "    return matriz_resultado\n",
        "\n",
        "    #Definimos las matrices a y b\n",
        "matriz_a = [[1, 2, 3],\n",
        "            [4, 5, 6],\n",
        "            [4, 7, 1] ]\n",
        "\n",
        "matriz_b = [  [7, 8, 9],\n",
        "              [10, 11, 12],\n",
        "              [1, 8, 23] ]\n",
        "\n",
        "#Aplicamos la función que acabamos de crear\n",
        "resultado = mult_matrices(matriz_a, matriz_b)\n",
        "for fila in resultado:\n",
        "  print(fila)"
      ],
      "metadata": {
        "id": "gjRS_siiQxh2",
        "colab": {
          "base_uri": "https://localhost:8080/"
        },
        "outputId": "e6106839-4007-4083-9668-195adb1526ab"
      },
      "execution_count": null,
      "outputs": [
        {
          "output_type": "stream",
          "name": "stdout",
          "text": [
            "[7, 16, 27]\n",
            "[40, 55, 72]\n",
            "[4, 56, 23]\n"
          ]
        }
      ]
    },
    {
      "cell_type": "code",
      "source": [
        "# 3)\n",
        "#La traza de la matríz\n",
        "#Definimos una funcion para hacer la traza\n",
        "def traza_matriz(matriz):\n",
        "  traza = 0\n",
        "  #aplicamos un ciclo for de largo de la longitud de la matríz\n",
        "  for i in range(len(matriz)):\n",
        "    #Agregamos += para los elementos [i][i] donde se suman los elementos para que se haga la diagonal\n",
        "    traza += matriz[i][i]\n",
        "  return traza\n",
        "\n",
        "matriz_a = [[1, 2, 3],\n",
        "            [4, 5, 6],\n",
        "            [4, 7, 1] ]\n",
        "resultado = traza_matriz(matriz_a)\n",
        "print(resultado)"
      ],
      "metadata": {
        "id": "Cu1irJPrQxkb",
        "colab": {
          "base_uri": "https://localhost:8080/"
        },
        "outputId": "65a7e53b-314b-4321-e6ab-8332dfd2bea3"
      },
      "execution_count": null,
      "outputs": [
        {
          "output_type": "stream",
          "name": "stdout",
          "text": [
            "15\n"
          ]
        }
      ]
    },
    {
      "cell_type": "code",
      "source": [
        "# 4)\n",
        "def transponer_matriz(matriz):\n",
        "    # Obtener el número de filas y columnas de la matriz original\n",
        "    filas = len(matriz_a)\n",
        "    columnas = len(matriz_a[0])\n",
        "\n",
        "    # Creamos una matriz que será la traspuesta\n",
        "    #serán los elementos desde el primero por las filas y como es cuadradada, en rango de las columnas\n",
        "    transpuesta = [[0] * filas for i in range(columnas)]\n",
        "\n",
        "    # Rellenar la matriz transpuesta\n",
        "    for i in range(filas):\n",
        "        for j in range(columnas):\n",
        "          #Aplicamos la transpuesta cambiando los elementos e intercambiandolos de i j a j i\n",
        "            transpuesta[j][i] = matriz_a[i][j]\n",
        "\n",
        "    return transpuesta\n",
        "\n",
        "matriz_a = [\n",
        "    [1, 2, 3],\n",
        "    [4, 5, 6],\n",
        "    [7, 8, 9]\n",
        "]\n",
        "\n",
        "resultado = transponer_matriz(matriz_a)\n",
        "print(\"La matriz transpuesta es:\")\n",
        "for fila in resultado:\n",
        "    print(fila)"
      ],
      "metadata": {
        "id": "s-2sai9fQxm3",
        "colab": {
          "base_uri": "https://localhost:8080/"
        },
        "outputId": "41f17464-2309-4f9d-8be3-63d8e75f318f"
      },
      "execution_count": null,
      "outputs": [
        {
          "output_type": "stream",
          "name": "stdout",
          "text": [
            "La matriz transpuesta es:\n",
            "[1, 4, 7]\n",
            "[2, 5, 8]\n",
            "[3, 6, 9]\n"
          ]
        }
      ]
    },
    {
      "cell_type": "code",
      "source": [
        "# 5)\n",
        "def maximo_matriz(matriz):\n",
        "    #Definimos el maximo como 1 ya que sabemos que el maximo no será uno\n",
        "    maximo = 1\n",
        "    # Recorremos cada fila de la matriz\n",
        "    for fila in matriz:\n",
        "        #Para cada elemento de de las filas vemos si es el maximo\n",
        "        for i in fila:\n",
        "            # si i es mayor que el maximo entonces i = maximo\n",
        "            if i > maximo:\n",
        "                maximo = i\n",
        "    return maximo\n",
        "\n",
        "# Ejemplo de uso\n",
        "matriz = [\n",
        "    [1, 2, 3],\n",
        "    [4, 5, 6],\n",
        "    [7, 8, 9]\n",
        "]\n",
        "\n",
        "resultado = maximo_matriz(matriz)\n",
        "print(\"El valor máximo de la matriz es:\", resultado)"
      ],
      "metadata": {
        "id": "g4Li3sgrQxpR",
        "colab": {
          "base_uri": "https://localhost:8080/"
        },
        "outputId": "1613cfd0-01cb-41ee-ace0-f638dd7aad70"
      },
      "execution_count": null,
      "outputs": [
        {
          "output_type": "stream",
          "name": "stdout",
          "text": [
            "El valor máximo de la matriz es: 9\n"
          ]
        }
      ]
    },
    {
      "cell_type": "code",
      "source": [
        "# 6)\n",
        "#Es \"Analogo\" al de la suma, solo se necesita cambiar los parametros de la suma entonces:\n",
        "def sumar_matricescuadrado(matriz_a, matriz_b):\n",
        "    # Creamos una matriz para almacenar el resultado\n",
        "    filas = len(matriz_a)\n",
        "    columnas = len(matriz_a[0])\n",
        "    #Ponemos un 1 para inicializar el bucle for, desde 1 hasta (columnas)\n",
        "    matriz_resultado = [[1 for i in range(columnas)] for i in range(filas)]\n",
        "\n",
        "    # Sumamos las matrices\n",
        "    for i in range(filas):\n",
        "        for j in range(columnas):\n",
        "          #Sumamos la multiplicaión de la matriz a más la multiplicación de la matriz b\n",
        "            matriz_resultado[i][j] = (matriz_a[i][j]*matriz_a[i][j]) + (matriz_b[i][j]*matriz_b[i][j])\n",
        "    #Returnamos el resultado de la matriz\n",
        "    return matriz_resultado\n",
        "\n",
        "    #Definimos las matrices a y b\n",
        "matriz_a = [[1, 2, 3],\n",
        "            [4, 5, 6],\n",
        "            [4, 7, 1] ]\n",
        "\n",
        "matriz_b = [  [7, 8, 9],\n",
        "              [10, 11, 12],\n",
        "              [1, 8, 23] ]\n",
        "\n",
        "#Aplicamos la función que acabamos de crear\n",
        "resultado = sumar_matricescuadrado(matriz_a, matriz_b)\n",
        "for fila in resultado:\n",
        "  print(fila)"
      ],
      "metadata": {
        "id": "rB3dgssXQxrm",
        "colab": {
          "base_uri": "https://localhost:8080/"
        },
        "outputId": "58eee844-664d-4c95-84a2-582d49efe5dd"
      },
      "execution_count": null,
      "outputs": [
        {
          "output_type": "stream",
          "name": "stdout",
          "text": [
            "[50, 68, 90]\n",
            "[116, 146, 180]\n",
            "[17, 113, 530]\n"
          ]
        }
      ]
    },
    {
      "cell_type": "code",
      "source": [
        "\n",
        "# 7) Potencia de matrices, para este caso, al cuadrado\n",
        "import matplotlib.pyplot as plt\n",
        "\n",
        "def power_matrix(A_matrix):\n",
        "\n",
        "    filas = len(A_matrix)\n",
        "\n",
        "    columnas = len(A_matrix[0])\n",
        "\n",
        "    Powermatrix_answer = [[1 for i in range(columnas)] for i in range(filas)]\n",
        "\n",
        "    for i in range(filas):\n",
        "        for j in range(columnas):\n",
        "            Powermatrix_answer[i][j] = (A_matrix[i][j])*(A_matrix[i][j])\n",
        "\n",
        "    return Powermatrix_answer\n",
        "\n",
        "A_matrix = [[1, 2, 1],\n",
        "            [3, 5, 2],\n",
        "            [4, 2, 3] ]\n",
        "\n",
        "print\n",
        "\n",
        "print(power_matrix(A_matrix))"
      ],
      "metadata": {
        "id": "Coa7LMALQxuN",
        "colab": {
          "base_uri": "https://localhost:8080/"
        },
        "outputId": "b4e449c7-004e-4063-b21c-5052825ed7fc"
      },
      "execution_count": 55,
      "outputs": [
        {
          "output_type": "stream",
          "name": "stdout",
          "text": [
            "[[1, 4, 1], [9, 25, 4], [16, 4, 9]]\n"
          ]
        }
      ]
    },
    {
      "cell_type": "code",
      "source": [
        "# 8)Dada las matrices A y B, calcular 2B+3A\n",
        "import matplotlib.pyplot as plt\n",
        "def matrix_operation(matriz_a, matriz_b):\n",
        "    # Creamos una matriz para almacenar el resultado\n",
        "    filas = len(a_matrix)\n",
        "\n",
        "    columnas = len(a_matrix[0])\n",
        "\n",
        "    matrix_answer1 = [[1 for i in range(columnas)] for i in range(filas)]\n",
        "\n",
        "    for i in range(filas):\n",
        "        for j in range(columnas):\n",
        "            matrix_answer1[i][j] = (a_matrix[i][j]) + (b_matrix[i][j]*2)+(a_matrix[i][j]*3)+(b_matrix[i][j]*3)+(a_matrix[i][j]*2)\n",
        "\n",
        "    return matrix_answer1\n",
        "\n",
        "a_matrix = [[11, 7, -1],\n",
        "            [-3, 5, 2],\n",
        "            [4, 2, -2] ]\n",
        "\n",
        "b_matrix = [  [1, 1, 1],\n",
        "              [10, 3, -5],\n",
        "              [-6, -10, -3] ]\n",
        "\n",
        "print\n",
        "\n",
        "print(matrix_operation(a_matrix, b_matrix))\n"
      ],
      "metadata": {
        "colab": {
          "base_uri": "https://localhost:8080/"
        },
        "id": "UzEKVJ5Et3ZG",
        "outputId": "983781a2-4916-4ac1-fba2-1f9ae84beb6b"
      },
      "execution_count": 19,
      "outputs": [
        {
          "output_type": "stream",
          "name": "stdout",
          "text": [
            "[[35, 23, -1], [11, 21, -4], [0, -14, -12]]\n"
          ]
        }
      ]
    },
    {
      "cell_type": "code",
      "source": [
        "# 8.1)Dada las matrices A y B, calcular (B+2A)al cuadrado\n",
        "import matplotlib.pyplot as plt\n",
        "def mult_matrix(matriz_a, matriz_b):\n",
        "    # Creamos una matriz para almacenar el resultado\n",
        "    filas = len(a_matrix)\n",
        "\n",
        "    columnas = len(a_matrix[0])\n",
        "\n",
        "    matrix_answer2 = [[1 for i in range(columnas)] for i in range(filas)]\n",
        "\n",
        "    for i in range(filas):\n",
        "        for j in range(columnas):\n",
        "            matrix_answer2[i][j] = (((a_matrix[i][j]) + (a_matrix[i][j]))+(b_matrix[i][j])*2)\n",
        "\n",
        "    return matrix_answer2\n",
        "\n",
        "a_matrix = [[11, 7, -1],\n",
        "            [-3, 5, 2],\n",
        "            [4, 2, -2] ]\n",
        "\n",
        "b_matrix = [  [1, 1, 1],\n",
        "              [10, 3, -5],\n",
        "              [-6, -10, -3] ]\n",
        "\n",
        "print(mult_matrix(a_matrix, b_matrix))"
      ],
      "metadata": {
        "colab": {
          "base_uri": "https://localhost:8080/"
        },
        "id": "6x4bdkXxyRC9",
        "outputId": "803e0ec3-9370-4efd-c6b4-3083a8ae8249"
      },
      "execution_count": 18,
      "outputs": [
        {
          "output_type": "stream",
          "name": "stdout",
          "text": [
            "[[24, 16, 0], [14, 16, -6], [-4, -16, -10]]\n"
          ]
        }
      ]
    },
    {
      "cell_type": "code",
      "source": [
        "# 8.2)Dada las matrices A y B, calcular A cuadrada + 3b\n",
        "import matplotlib.pyplot as plt\n",
        "def mult_matrix(matriz_a, matriz_b):\n",
        "    # Creamos una matriz para almacenar el resultado\n",
        "    filas = len(a_matrix)\n",
        "\n",
        "    columnas = len(a_matrix[0])\n",
        "\n",
        "    matrix_answer2 = [[1 for i in range(columnas)] for i in range(filas)]\n",
        "\n",
        "    for i in range(filas):\n",
        "        for j in range(columnas):\n",
        "            matrix_answer2[i][j] = ((a_matrix[i][j])*(a_matrix[i][j])) + (b_matrix[i][j])+(b_matrix[i][j])+(b_matrix[i][j])\n",
        "\n",
        "    return matrix_answer2\n",
        "\n",
        "a_matrix = [[11, 7, -1],\n",
        "            [-3, 5, 2],\n",
        "            [4, 2, -2] ]\n",
        "\n",
        "b_matrix = [  [1, 1, 1],\n",
        "              [10, 3, -5],\n",
        "              [-6, -10, -3] ]\n",
        "\n",
        "print(mult_matrix(a_matrix, b_matrix))"
      ],
      "metadata": {
        "colab": {
          "base_uri": "https://localhost:8080/"
        },
        "id": "sfXmePyBz5mD",
        "outputId": "b7a6efe8-a014-4365-eb1b-ca1c682257b2"
      },
      "execution_count": 20,
      "outputs": [
        {
          "output_type": "stream",
          "name": "stdout",
          "text": [
            "[[124, 52, 4], [39, 34, -11], [-2, -26, -5]]\n"
          ]
        }
      ]
    },
    {
      "cell_type": "code",
      "source": [],
      "metadata": {
        "id": "j4EtIy1v1mZI"
      },
      "execution_count": null,
      "outputs": []
    },
    {
      "cell_type": "code",
      "source": [
        "# 9)\n",
        "import matplotlib.pyplot as plt\n",
        "\n",
        "print(\"En la clase de ecuaciones diferenciales se pide a los estudiantes encontrar la soluci ́on del problema de \\nvalor inicial: \\ny = −y + x \\ny(−1) = 5 \\nLos estudiantes llegaron a la solucion general cuya ecuacion es: \\ny = (x − 1) + C**e−x\")\n",
        "#Definimos una función con los parametros:\n",
        "def y(x, C):\n",
        "  return (x - 1) + C*np.exp(-x)\n",
        "# Donde regrese la suma de x + 1 más C por la exponencial de -x\n",
        "\n",
        "#Ponemos el rango de las x y en el tercer parametro ponemos un número grande para que se note la curva\n",
        "x = np.linspace(-2, 2, 1000)\n",
        "C_values = [1, 0, -1]\n",
        "#Ponemos los valores de C\n",
        "for i, C in enumerate(C_values):\n",
        "  plt.plot(x, y(x, C))\n",
        "#Graficamos x aplicando y\n",
        "plt.xlabel('x')\n",
        "plt.ylabel('y')\n",
        "plt.title('Grafica de la ecuación')\n",
        "\n",
        "# Mostramos la gráfica\n",
        "plt.show()"
      ],
      "metadata": {
        "id": "f-BUDIjRQxwi",
        "colab": {
          "base_uri": "https://localhost:8080/",
          "height": 576
        },
        "outputId": "1a574fff-1d8f-45bd-b0a4-91ec1fb36b93"
      },
      "execution_count": null,
      "outputs": [
        {
          "output_type": "stream",
          "name": "stdout",
          "text": [
            "En la clase de ecuaciones diferenciales se pide a los estudiantes encontrar la soluci ́on del problema de \n",
            "valor inicial: \n",
            "y = −y + x \n",
            "y(−1) = 5 \n",
            "Los estudiantes llegaron a la solucion general cuya ecuacion es: \n",
            "y = (x − 1) + C**e−x\n"
          ]
        },
        {
          "output_type": "display_data",
          "data": {
            "text/plain": [
              "<Figure size 640x480 with 1 Axes>"
            ],
            "image/png": "[encoded data removed]"
          },
          "metadata": {}
        }
      ]
    },
    {
      "cell_type": "code",
      "source": [
        "#10(Funcion a graficar\n",
        "\n",
        "import matplotlib.pyplot as plt\n",
        "import numpy as np\n",
        "\n",
        "# Se define la función\n",
        "def f(x):\n",
        "  return 3*x + 7/x**2 - 4\n",
        "\n",
        "x = np.linspace(-10, 10, 1000)\n",
        "\n",
        "plt.plot(x, f(x), label='y = 3x + 7/x^2 - 4')\n",
        "\n",
        "\n",
        "vertical_asymptotes = [0]\n",
        "for va in vertical_asymptotes:\n",
        "    plt.axvline(x=va, color='red', linestyle=':', label=f'Asíntota vertical: x = {va}')\n",
        "\n",
        "horizontal_asymptote = 1\n",
        "plt.axhline(y=horizontal_asymptote, color='green', linestyle=':', label='Asíntota horizontal: y = 0')\n",
        "\n",
        "plt.xlabel('x')\n",
        "plt.ylabel('y')\n",
        "plt.ylim(-10, 10)\n",
        "plt.title('Gráfica de la función')\n",
        "plt.legend()\n",
        "plt.grid(True)\n",
        "\n",
        "plt.show()"
      ],
      "metadata": {
        "colab": {
          "base_uri": "https://localhost:8080/",
          "height": 472
        },
        "id": "xLXKhzv9-gTf",
        "outputId": "4eb1e962-235e-482c-ef93-b4e9ce04421e"
      },
      "execution_count": 41,
      "outputs": [
        {
          "output_type": "display_data",
          "data": {
            "text/plain": [
              "<Figure size 640x480 with 1 Axes>"
            ],
            "image/png": "[encoded data removed]"
          },
          "metadata": {}
        }
      ]
    }
  ]
}