{
  "nbformat": 4,
  "nbformat_minor": 0,
  "metadata": {
    "colab": {
      "provenance": [],
      "authorship_tag": "ABX9TyNW747QndI5GJMgUhWwNPzd",
      "include_colab_link": true
    },
    "kernelspec": {
      "name": "python3",
      "display_name": "Python 3"
    },
    "language_info": {
      "name": "python"
    }
  },
  "cells": [
    {
      "cell_type": "markdown",
      "metadata": {
        "id": "view-in-github",
        "colab_type": "text"
      },
      "source": [
        "<a href=\"https://colab.research.google.com/github/IsaacMaciasZX/TareasTHC/blob/main/Untitled0.ipynb\" target=\"_parent\"><img src=\"https://colab.research.google.com/assets/colab-badge.svg\" alt=\"Open In Colab\"/></a>"
      ]
    },
    {
      "cell_type": "code",
      "execution_count": 13,
      "metadata": {
        "colab": {
          "base_uri": "https://localhost:8080/",
          "height": 106
        },
        "id": "YoAr8PmbjLjB",
        "outputId": "bb867e7c-97f1-4500-87df-a6f746846ce6"
      },
      "outputs": [
        {
          "output_type": "error",
          "ename": "SyntaxError",
          "evalue": "invalid syntax (<ipython-input-13-f36d1e3f1b70>, line 6)",
          "traceback": [
            "\u001b[0;36m  File \u001b[0;32m\"<ipython-input-13-f36d1e3f1b70>\"\u001b[0;36m, line \u001b[0;32m6\u001b[0m\n\u001b[0;31m    def Cname =input()\u001b[0m\n\u001b[0m              ^\u001b[0m\n\u001b[0;31mSyntaxError\u001b[0m\u001b[0;31m:\u001b[0m invalid syntax\n"
          ]
        }
      ],
      "source": [
        "def Ffunct(name,Lname,age):\n",
        "    print(\"Hola yo soy\"+ Cname)\n",
        "Cname=Name+Lname\n",
        "\n",
        "\n",
        "def Cname =input()\n",
        "def len ()\n",
        "\n",
        "def Afunct\n",
        "\n",
        "input_a = type(input)\n",
        "print(type(input_a))\n",
        "type(input_a)= int(input)\n",
        "\n"
      ]
    },
    {
      "cell_type": "code",
      "source": [
        "#solucion\n",
        "\n",
        "def Data(Name=\"Jesus\", LastName=\"Lucia\", Age=25):\n",
        "  if len(Name)>5:\n",
        "    print(\"No se acepta tu Nombre\")\n",
        "  else:\n",
        "    print(\"Se acepta tu Nombre\")\n",
        "    if type(Age)==int:\n",
        "      print(\"Se acepta tu edad\")\n",
        "\n",
        "      Presentation= \"Hola mi nombre es\" +Name+\" \" +LastName +\"y tengo \"+str(Age) + \"años\"\n",
        "      return presentation\n",
        " else:\n",
        "      print(\"No se acepta tu edad\")\n"
      ],
      "metadata": {
        "colab": {
          "base_uri": "https://localhost:8080/",
          "height": 106
        },
        "id": "XAty1KyTptzL",
        "outputId": "d2bdc62c-4774-48c6-a0c9-3e04ef455f54"
      },
      "execution_count": 27,
      "outputs": [
        {
          "output_type": "error",
          "ename": "IndentationError",
          "evalue": "unindent does not match any outer indentation level (<tokenize>, line 13)",
          "traceback": [
            "\u001b[0;36m  File \u001b[0;32m\"<tokenize>\"\u001b[0;36m, line \u001b[0;32m13\u001b[0m\n\u001b[0;31m    else:\u001b[0m\n\u001b[0m    ^\u001b[0m\n\u001b[0;31mIndentationError\u001b[0m\u001b[0;31m:\u001b[0m unindent does not match any outer indentation level\n"
          ]
        }
      ]
    }
  ]
}